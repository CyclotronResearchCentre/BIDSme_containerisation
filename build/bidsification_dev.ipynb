{
 "cells": [
  {
   "cell_type": "markdown",
   "id": "ae1c3804-a043-4c9a-8cc7-0fdf5ef1452a",
   "metadata": {},
   "source": [
    "# Development bidsification\n",
    "\n",
    "To be run on **test dataset** to configure and test bidsmap and plugins.\n",
    "\n",
    " - [Dataset path configuration](./configuration.ipynb): to define working paths\n",
    " - [Production version](./bidsification_prod.ipynb): to use when bidsification need to be adjusted\n",
    " - [Instalation notebook](installation.ipynb): if bidsme and other packages must be installed/updated"
   ]
  },
  {
   "cell_type": "markdown",
   "id": "fcf7d215-3235-4175-934f-a9d4dd0e2d2d",
   "metadata": {},
   "source": [
    "# Initialisation"
   ]
  },
  {
   "cell_type": "markdown",
   "id": "65a00b8b-08cd-446c-bff7-a24f3700e72e",
   "metadata": {},
   "source": [
    "To run once, after launching notebook or restarting kernel to initialize bidsme and setup paths\n",
    "\n",
    "> Verify the version of `bidsme` and import errors."
   ]
  },
  {
   "cell_type": "code",
   "execution_count": null,
   "id": "e3350aac-411a-44bb-bcce-4bfef5f34b04",
   "metadata": {},
   "outputs": [],
   "source": [
    "import shutil\n",
    "import bidsme\n",
    "\n",
    "bidsme.init()"
   ]
  },
  {
   "cell_type": "markdown",
   "id": "0b211814-f921-4397-93a3-9d119cd0edd1",
   "metadata": {},
   "source": [
    "Insure that you are working on **Test** dataset (`production=False`)."
   ]
  },
  {
   "cell_type": "markdown",
   "id": "771b2174-f341-4fa4-bdc9-10483d49bbd0",
   "metadata": {},
   "source": [
    "# Preparation"
   ]
  },
  {
   "cell_type": "markdown",
   "id": "cae30763-21af-4326-9d1a-3b8933a9e02a",
   "metadata": {},
   "source": [
    "To run on test dataset when reconfiguration of preparation step is needed\n",
    "\n",
    " - [Preparation plugin file](../plugin/prepare_plugin.py)"
   ]
  },
  {
   "cell_type": "code",
   "execution_count": null,
   "id": "0fd1ef1f-da98-4e31-8d50-1212c999b1be",
   "metadata": {
    "scrolled": true,
    "tags": []
   },
   "outputs": [],
   "source": [
    "# Online help for preparation\n",
    "?bidsme.prepare"
   ]
  },
  {
   "cell_type": "code",
   "execution_count": null,
   "id": "2a5f5fa3-5bd8-4a0b-9819-fb44d02a7698",
   "metadata": {},
   "outputs": [],
   "source": [
    "# Cleanup prepared directory if needed\n",
    "for f in os.listdir(prepared):\n",
    "    f = os.path.join(prepared, f)\n",
    "    if os.path.isdir(f):\n",
    "        shutil.rmtree(f)\n",
    "    else:\n",
    "        os.remove(f)"
   ]
  },
  {
   "cell_type": "code",
   "execution_count": null,
   "id": "5b9cb6c7-1c2a-46b3-8b9b-faa7ca93a502",
   "metadata": {},
   "outputs": [],
   "source": [
    "# To manually set list of subjects to run with bidisified name, for ex.\n",
    "# FCAVC012 becomes sub-AVC012\n",
    "# If list is empty, preparation will run on all aviable subjects\n",
    "participants = [\"sub-SCD001\"]"
   ]
  },
  {
   "cell_type": "code",
   "execution_count": null,
   "id": "25ae0658-0c30-4ec3-8120-8d8beb038279",
   "metadata": {
    "scrolled": true,
    "tags": []
   },
   "outputs": [],
   "source": [
    "bidsme.prepare(source, prepared,\n",
    "               data_dirs={\"MRI/s*/nii\": \"MRI\", \"VIZ/e*/\": \"PET\", \"UCB/e*/\": \"PET\"},\n",
    "               ses_no_dir=True,\n",
    "               plugin_file=prepare_plugin,\n",
    "               part_template=part_template,\n",
    "               sub_skip_tsv=True, sub_list=participants,\n",
    "               dry_run=False)"
   ]
  },
  {
   "cell_type": "markdown",
   "id": "973a852d-e17e-43d5-8c56-bbdd3eb17e78",
   "metadata": {},
   "source": [
    "### Manual data curating\n",
    "\n",
    " - [MRI_white_list](../lists/MRI_white_list.json) -- list os standard acquisition in session\n",
    " - [black_list](../lists/black_list.json) -- list of subjects/sessions to discard\n",
    " - [MRI_to_remove](../lists/MRI_to_remove.json) -- list of faulty acquisitions to remove\n",
    "\n",
    "Usefull to create the lists and testing, but must be moved into plugins for production"
   ]
  },
  {
   "cell_type": "markdown",
   "id": "2cb196d9-c8fb-4340-adc3-ff57f9b1b9c6",
   "metadata": {},
   "source": [
    "#### 1) Loading lists"
   ]
  },
  {
   "cell_type": "code",
   "execution_count": null,
   "id": "53a2a430-47e1-48eb-8874-07da37857e16",
   "metadata": {},
   "outputs": [],
   "source": [
    "# This will load all defined curation lists\n",
    "# Must be ececuted every time when lists are changed\n",
    "from bidsme.plugins.tools.General import LoadCurationList, CleanupPrepared, CheckPrepared\n",
    "white_list = LoadCurationList(curation_lists, \"white_list\")\n",
    "black_list = LoadCurationList(curation_lists, \"black_list\", modalities=False)\n",
    "remove_list = LoadCurationList(curation_lists, \"to_remove\")"
   ]
  },
  {
   "cell_type": "markdown",
   "id": "5b977403-9b66-446f-b3f6-48a85c9ddc99",
   "metadata": {},
   "source": [
    "#### 2) Cleaning-up/removing faulty recordings"
   ]
  },
  {
   "cell_type": "code",
   "execution_count": null,
   "id": "2f2d541b-083b-4b76-90f7-c5a691f2afe5",
   "metadata": {},
   "outputs": [],
   "source": [
    "CleanupPrepared(prepared, remove_list)"
   ]
  },
  {
   "cell_type": "markdown",
   "id": "ce54af2b-aecb-46e9-91f8-3164e67a7707",
   "metadata": {},
   "source": [
    "#### 3) Checking if cleaned dataset is conforms to expectations"
   ]
  },
  {
   "cell_type": "markdown",
   "id": "d1e69a4b-95d5-427b-a850-84b86c03af28",
   "metadata": {},
   "source": [
    "> If your dataset contains several standard sequences (for ex. if there was a protocol change in the middle of acquisition),\n",
    "> you can specify several default acquisistion lists with defaults parameter: `defaults=[\"default1\", \"default2\"]`\n",
    "\n",
    "> If you want to check a specific subkect/session (for ex.to remove output), you can specify it using `sub` and `ses`parameters\n",
    "\n",
    "> The strickness of checks can be regulated using `strict`, `complete` and `order` switches, for details, see the docstring "
   ]
  },
  {
   "cell_type": "code",
   "execution_count": null,
   "id": "175e8f83-0d56-474e-8a57-2a58aa710558",
   "metadata": {},
   "outputs": [],
   "source": [
    "CheckPrepared(prepared, white_list)"
   ]
  },
  {
   "cell_type": "markdown",
   "id": "f0ac2438-0beb-4264-a51d-e94b112233f1",
   "metadata": {
    "tags": []
   },
   "source": [
    "# Map preparation"
   ]
  },
  {
   "cell_type": "markdown",
   "id": "f6d79bcf-97af-426c-b127-6d13f467ba37",
   "metadata": {
    "tags": []
   },
   "source": [
    "> To run on test dataset when bidsmap must be created/adjusted\n",
    "\n",
    " - [Bidsification plugin file](../plugin/bidsify_plugin.py)\n",
    " - [Bidsmap file](../map/bidsmap.yaml)\n",
    " - [Unknown recordings](../map/unknown.yaml)"
   ]
  },
  {
   "cell_type": "code",
   "execution_count": null,
   "id": "ee7f2db6-7b0f-414b-bb46-928b6a19d368",
   "metadata": {
    "scrolled": true,
    "tags": []
   },
   "outputs": [],
   "source": [
    "# Online help for creation of bidsmal\n",
    "?bidsme.mapper"
   ]
  },
  {
   "cell_type": "code",
   "execution_count": null,
   "id": "5bbd05bf-7385-48c4-b6b2-f50d18ee5dff",
   "metadata": {},
   "outputs": [],
   "source": [
    "# To manually set list of subjects to run, put here one or two subjects with new protocol\n",
    "participants = [\"sub-AVC012\"]"
   ]
  },
  {
   "cell_type": "code",
   "execution_count": null,
   "id": "1f7d1f17-e354-49a9-9861-7d70d09ff038",
   "metadata": {
    "scrolled": true,
    "tags": []
   },
   "outputs": [],
   "source": [
    "bidsme.mapper(prepared, bidsified,\n",
    "              plugin_file=bidsify_plugin,\n",
    "              bidsmapfile=bidsmap,\n",
    "              sub_list=participants\n",
    "              )"
   ]
  },
  {
   "cell_type": "markdown",
   "id": "aad48cca-0ffa-490d-977e-71f7439fdc94",
   "metadata": {},
   "source": [
    "# Bidsification"
   ]
  },
  {
   "cell_type": "markdown",
   "id": "e40d6123-0219-4648-9339-a3b2f31329ca",
   "metadata": {},
   "source": [
    "> To run on test dataset when reconfiguration of bidsification is needed\n",
    "\n",
    " - [Bidsification plugin file](../plugin/bidsify_plugin.py)\n",
    " - [Bidsmap file](../maps/bidsmap.yaml)"
   ]
  },
  {
   "cell_type": "code",
   "execution_count": null,
   "id": "b40a2b2a-f9d9-4585-8d2f-53f39db9d88b",
   "metadata": {
    "scrolled": true,
    "tags": []
   },
   "outputs": [],
   "source": [
    "# Online help for bidsification\n",
    "?bidsme.bidsify"
   ]
  },
  {
   "cell_type": "code",
   "execution_count": null,
   "id": "cd9c8801-d5d3-4042-a7fb-d8d2b9ce96f3",
   "metadata": {},
   "outputs": [],
   "source": [
    "# Cleanup bidsified directory if needed\n",
    "for f in os.listdir(bidsified):\n",
    "    f = os.path.join(bidsified, f)\n",
    "    if os.path.isdir(f):\n",
    "        shutil.rmtree(f)\n",
    "    else:\n",
    "        os.remove(f)"
   ]
  },
  {
   "cell_type": "code",
   "execution_count": null,
   "id": "9fe05cd3-c52c-4314-8276-2acadfa3b9a0",
   "metadata": {
    "scrolled": true,
    "tags": []
   },
   "outputs": [],
   "source": [
    "bidsme.bidsify(prepared, bidsified,\n",
    "               plugin_file=bidsify_plugin,\n",
    "               bidsmapfile=bidsmap,\n",
    "               sub_skip_tsv=True,\n",
    "               dry_run=False)"
   ]
  }
 ],
 "metadata": {
  "kernelspec": {
   "display_name": "bidsme (Python 3.10.13)",
   "language": "python",
   "name": "bidsme"
  },
  "language_info": {
   "codemirror_mode": {
    "name": "ipython",
    "version": 3
   },
   "file_extension": ".py",
   "mimetype": "text/x-python",
   "name": "python",
   "nbconvert_exporter": "python",
   "pygments_lexer": "ipython3",
   "version": "3.10.13"
  }
 },
 "nbformat": 4,
 "nbformat_minor": 5
}
