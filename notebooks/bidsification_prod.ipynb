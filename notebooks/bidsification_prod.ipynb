{
 "cells": [
  {
   "cell_type": "markdown",
   "id": "49e39e2e-9d8d-47c4-9133-e23abfb2b056",
   "metadata": {
    "tags": []
   },
   "source": [
    "# Production bidsification\n",
    "\n",
    "To be run on full dataset with fully configured bidsmap and plugins. All cells can be run in one go (Kernel -> Restart kernel and run all cells).\n",
    "\n",
    " - [Dataset path configuration](./configuration.ipynb): to define working paths\n",
    " - [Development version](./bidsification_dev.ipynb): to use when bidsification need to be adjusted\n",
    " - [Instalation notebook](installation.ipynb): if bidsme and other packages must be installed/updated"
   ]
  },
  {
   "cell_type": "markdown",
   "id": "fcf7d215-3235-4175-934f-a9d4dd0e2d2d",
   "metadata": {},
   "source": [
    "# Initialisation"
   ]
  },
  {
   "cell_type": "markdown",
   "id": "062a4c43-e32b-4131-aa57-d916f310b631",
   "metadata": {},
   "source": [
    "To run once, after launching notebook or restarting kernel to initialize bidsme and setup paths\n",
    "\n",
    "> Verify the version of `bidsme` and import errors."
   ]
  },
  {
   "cell_type": "code",
   "execution_count": 1,
   "id": "e3350aac-411a-44bb-bcce-4bfef5f34b04",
   "metadata": {},
   "outputs": [
    {
     "name": "stdout",
     "output_type": "stream",
     "text": [
      "\u001b[34mmain(80)\u001b[0m - \u001b[1;30mINFO\u001b[0m \n",
      "\u001b[34mmain(81)\u001b[0m - \u001b[1;30mINFO\u001b[0m -------------- START bidsme ----------------\n",
      "\u001b[34mmain(82)\u001b[0m - \u001b[1;30mINFO\u001b[0m Mon Jul 28 13:19:49 2025\n",
      "\u001b[34mmain(83)\u001b[0m - \u001b[1;30mINFO\u001b[0m version: 1.9.3\n",
      "\u001b[34mbidsschematools(208)\u001b[0m - \u001b[1;30mINFO\u001b[0m No schema path specified, defaulting to the bundled schema, `/usr/local/lib/python3.9/site-packages/bidsschematools/data/schema.json`.\n",
      "\u001b[34mbidsme.schema.BIDSschema(674)\u001b[0m - \u001b[1;30mINFO\u001b[0m Loaded BIDS version 1.10.0\n",
      "\u001b[34mbidsme.schema.BIDSschema(676)\u001b[0m - \u001b[1;30mINFO\u001b[0m Schema version 1.0.10\n"
     ]
    },
    {
     "data": {
      "text/plain": [
       "<RootLogger main (INFO)>"
      ]
     },
     "execution_count": 1,
     "metadata": {},
     "output_type": "execute_result"
    }
   ],
   "source": [
    "import shutil\n",
    "import bidsme\n",
    "\n",
    "bidsme.init()"
   ]
  },
  {
   "cell_type": "markdown",
   "id": "9eebec85-b1f1-40eb-8a2b-5eb1ecf97cf3",
   "metadata": {},
   "source": [
    "Insure that you are working on **Production** dataset (`production=True`)."
   ]
  },
  {
   "cell_type": "markdown",
   "id": "771b2174-f341-4fa4-bdc9-10483d49bbd0",
   "metadata": {},
   "source": [
    "# Preparation"
   ]
  },
  {
   "cell_type": "markdown",
   "id": "cae30763-21af-4326-9d1a-3b8933a9e02a",
   "metadata": {},
   "source": [
    "> To run when new data is acquired\n",
    "\n",
    " - [Preparation plugin file](../plugin/prepare_plugin.py)"
   ]
  },
  {
   "cell_type": "markdown",
   "id": "4af73bed-72c7-4e82-82e3-a55238d06c36",
   "metadata": {},
   "source": [
    "### Data curating\n",
    "\n",
    " - [MRI_white_list](../lists/MRI_white_list.json)\n",
    " - [MRI_remove_list](../lists/MRI_to_remove.json)\n",
    " - [black_list](../lists/black_list.json)"
   ]
  },
  {
   "cell_type": "code",
   "execution_count": null,
   "id": "25ae0658-0c30-4ec3-8120-8d8beb038279",
   "metadata": {
    "scrolled": true,
    "tags": []
   },
   "outputs": [],
   "source": [
    "bidsme.prepare(source, prepared,\n",
    "               data_dirs={\"s*/nii\": \"MRI\"},\n",
    "               plugin_file=prepare_plugin,\n",
    "               part_template=part_template,\n",
    "               sub_skip_tsv=True)"
   ]
  },
  {
   "cell_type": "markdown",
   "id": "aad48cca-0ffa-490d-977e-71f7439fdc94",
   "metadata": {},
   "source": [
    "# Bidsification"
   ]
  },
  {
   "cell_type": "markdown",
   "id": "e40d6123-0219-4648-9339-a3b2f31329ca",
   "metadata": {},
   "source": [
    "> To run once new subjects are prepared\n",
    "\n",
    " - [Bidsification plugin file](../plugin/bidsify_plugin.py)\n",
    " - [Bidsmap file](../map/bidsmap.yaml)"
   ]
  },
  {
   "cell_type": "code",
   "execution_count": null,
   "id": "9fe05cd3-c52c-4314-8276-2acadfa3b9a0",
   "metadata": {
    "scrolled": true,
    "tags": []
   },
   "outputs": [],
   "source": [
    "bidsme.bidsify(prepared, bidsified,\n",
    "               plugin_file=bidsify_plugin,\n",
    "               bidsmapfile=bidsmap,\n",
    "               sub_skip_tsv=True\n",
    "               )"
   ]
  },
  {
   "cell_type": "code",
   "execution_count": 2,
   "id": "8257e5ba-c8ea-4b9e-a729-81b0cc1ba197",
   "metadata": {},
   "outputs": [
    {
     "name": "stdout",
     "output_type": "stream",
     "text": [
      "test\n"
     ]
    }
   ],
   "source": [
    "print(\"test\")"
   ]
  },
  {
   "cell_type": "code",
   "execution_count": null,
   "id": "634838cb-5bbc-471e-9f70-c90f4feddd64",
   "metadata": {},
   "outputs": [],
   "source": []
  }
 ],
 "metadata": {
  "kernelspec": {
   "display_name": "Python 3 (ipykernel)",
   "language": "python",
   "name": "python3"
  },
  "language_info": {
   "codemirror_mode": {
    "name": "ipython",
    "version": 3
   },
   "file_extension": ".py",
   "mimetype": "text/x-python",
   "name": "python",
   "nbconvert_exporter": "python",
   "pygments_lexer": "ipython3",
   "version": "3.9.23"
  }
 },
 "nbformat": 4,
 "nbformat_minor": 5
}
